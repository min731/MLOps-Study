{
 "cells": [
  {
   "cell_type": "markdown",
   "metadata": {},
   "source": [
    "### Wandb 예제"
   ]
  },
  {
   "cell_type": "markdown",
   "metadata": {},
   "source": [
    "#### init"
   ]
  },
  {
   "cell_type": "code",
   "execution_count": 4,
   "metadata": {},
   "outputs": [
    {
     "data": {
      "text/html": [
       "Finishing last run (ID:iuq5zgma) before initializing another..."
      ],
      "text/plain": [
       "<IPython.core.display.HTML object>"
      ]
     },
     "metadata": {},
     "output_type": "display_data"
    },
    {
     "data": {
      "text/html": [
       " View run <strong style=\"color:#cdcd00\">wobbly-rain-1</strong> at: <a href='https://wandb.ai/jmlim2/MLOps_Interview_CIFAR10_Classification/runs/iuq5zgma' target=\"_blank\">https://wandb.ai/jmlim2/MLOps_Interview_CIFAR10_Classification/runs/iuq5zgma</a><br/> View project at: <a href='https://wandb.ai/jmlim2/MLOps_Interview_CIFAR10_Classification' target=\"_blank\">https://wandb.ai/jmlim2/MLOps_Interview_CIFAR10_Classification</a><br/>Synced 6 W&B file(s), 0 media file(s), 0 artifact file(s) and 0 other file(s)"
      ],
      "text/plain": [
       "<IPython.core.display.HTML object>"
      ]
     },
     "metadata": {},
     "output_type": "display_data"
    },
    {
     "data": {
      "text/html": [
       "Find logs at: <code>.\\wandb\\run-20240622_144936-iuq5zgma\\logs</code>"
      ],
      "text/plain": [
       "<IPython.core.display.HTML object>"
      ]
     },
     "metadata": {},
     "output_type": "display_data"
    },
    {
     "data": {
      "text/html": [
       "The new W&B backend becomes opt-out in version 0.18.0; try it out with `wandb.require(\"core\")`! See https://wandb.me/wandb-core for more information."
      ],
      "text/plain": [
       "<IPython.core.display.HTML object>"
      ]
     },
     "metadata": {},
     "output_type": "display_data"
    },
    {
     "data": {
      "text/html": [
       "Successfully finished last run (ID:iuq5zgma). Initializing new run:<br/>"
      ],
      "text/plain": [
       "<IPython.core.display.HTML object>"
      ]
     },
     "metadata": {},
     "output_type": "display_data"
    },
    {
     "data": {
      "text/html": [
       "Tracking run with wandb version 0.17.2"
      ],
      "text/plain": [
       "<IPython.core.display.HTML object>"
      ]
     },
     "metadata": {},
     "output_type": "display_data"
    },
    {
     "data": {
      "text/html": [
       "Run data is saved locally in <code>c:\\LJM\\MLOps_Study\\Wandb\\wandb\\run-20240622_145303-40w7vg30</code>"
      ],
      "text/plain": [
       "<IPython.core.display.HTML object>"
      ]
     },
     "metadata": {},
     "output_type": "display_data"
    },
    {
     "data": {
      "text/html": [
       "Syncing run <strong><a href='https://wandb.ai/jmlim2/MLOps_Interview_CIFAR10_Classification/runs/40w7vg30' target=\"_blank\">Train_1</a></strong> to <a href='https://wandb.ai/jmlim2/MLOps_Interview_CIFAR10_Classification' target=\"_blank\">Weights & Biases</a> (<a href='https://wandb.me/run' target=\"_blank\">docs</a>)<br/>"
      ],
      "text/plain": [
       "<IPython.core.display.HTML object>"
      ]
     },
     "metadata": {},
     "output_type": "display_data"
    },
    {
     "data": {
      "text/html": [
       " View project at <a href='https://wandb.ai/jmlim2/MLOps_Interview_CIFAR10_Classification' target=\"_blank\">https://wandb.ai/jmlim2/MLOps_Interview_CIFAR10_Classification</a>"
      ],
      "text/plain": [
       "<IPython.core.display.HTML object>"
      ]
     },
     "metadata": {},
     "output_type": "display_data"
    },
    {
     "data": {
      "text/html": [
       " View run at <a href='https://wandb.ai/jmlim2/MLOps_Interview_CIFAR10_Classification/runs/40w7vg30' target=\"_blank\">https://wandb.ai/jmlim2/MLOps_Interview_CIFAR10_Classification/runs/40w7vg30</a>"
      ],
      "text/plain": [
       "<IPython.core.display.HTML object>"
      ]
     },
     "metadata": {},
     "output_type": "display_data"
    },
    {
     "data": {
      "text/html": [
       "<button onClick=\"this.nextSibling.style.display='block';this.style.display='none';\">Display W&B run</button><iframe src='https://wandb.ai/jmlim2/MLOps_Interview_CIFAR10_Classification/runs/40w7vg30?jupyter=true' style='border:none;width:100%;height:420px;display:none;'></iframe>"
      ],
      "text/plain": [
       "<wandb.sdk.wandb_run.Run at 0x2935eaf0700>"
      ]
     },
     "execution_count": 4,
     "metadata": {},
     "output_type": "execute_result"
    }
   ],
   "source": [
    "import wandb\n",
    "\n",
    "# !wandb login\n",
    "wandb.init(project='MLOps_Interview_CIFAR10_Classification',\n",
    "           name='Train_1'\n",
    "           )"
   ]
  },
  {
   "cell_type": "markdown",
   "metadata": {},
   "source": [
    "#### config 설정"
   ]
  },
  {
   "cell_type": "code",
   "execution_count": 5,
   "metadata": {},
   "outputs": [],
   "source": [
    "learning_rate = 0.001\n",
    "epochs = 10\n",
    "batch_size = 16\n",
    "\n",
    "args = {\n",
    "    \"learning_rate\": learning_rate,\n",
    "    \"epochs\": epochs,\n",
    "    \"batch_size\": batch_size\n",
    "}\n",
    "wandb.config.update(args)"
   ]
  },
  {
   "cell_type": "markdown",
   "metadata": {},
   "source": [
    "#### datasets"
   ]
  },
  {
   "cell_type": "code",
   "execution_count": 7,
   "metadata": {},
   "outputs": [
    {
     "name": "stdout",
     "output_type": "stream",
     "text": [
      "Downloading http://fashion-mnist.s3-website.eu-central-1.amazonaws.com/train-images-idx3-ubyte.gz\n",
      "Downloading http://fashion-mnist.s3-website.eu-central-1.amazonaws.com/train-images-idx3-ubyte.gz to data\\FashionMNIST\\raw\\train-images-idx3-ubyte.gz\n"
     ]
    },
    {
     "name": "stderr",
     "output_type": "stream",
     "text": [
      "100.0%\n"
     ]
    },
    {
     "name": "stdout",
     "output_type": "stream",
     "text": [
      "Extracting data\\FashionMNIST\\raw\\train-images-idx3-ubyte.gz to data\\FashionMNIST\\raw\n",
      "\n",
      "Downloading http://fashion-mnist.s3-website.eu-central-1.amazonaws.com/train-labels-idx1-ubyte.gz\n",
      "Downloading http://fashion-mnist.s3-website.eu-central-1.amazonaws.com/train-labels-idx1-ubyte.gz to data\\FashionMNIST\\raw\\train-labels-idx1-ubyte.gz\n"
     ]
    },
    {
     "name": "stderr",
     "output_type": "stream",
     "text": [
      "100.0%\n"
     ]
    },
    {
     "name": "stdout",
     "output_type": "stream",
     "text": [
      "Extracting data\\FashionMNIST\\raw\\train-labels-idx1-ubyte.gz to data\\FashionMNIST\\raw\n",
      "\n",
      "Downloading http://fashion-mnist.s3-website.eu-central-1.amazonaws.com/t10k-images-idx3-ubyte.gz\n",
      "Downloading http://fashion-mnist.s3-website.eu-central-1.amazonaws.com/t10k-images-idx3-ubyte.gz to data\\FashionMNIST\\raw\\t10k-images-idx3-ubyte.gz\n"
     ]
    },
    {
     "name": "stderr",
     "output_type": "stream",
     "text": [
      "100.0%\n"
     ]
    },
    {
     "name": "stdout",
     "output_type": "stream",
     "text": [
      "Extracting data\\FashionMNIST\\raw\\t10k-images-idx3-ubyte.gz to data\\FashionMNIST\\raw\n",
      "\n",
      "Downloading http://fashion-mnist.s3-website.eu-central-1.amazonaws.com/t10k-labels-idx1-ubyte.gz\n",
      "Downloading http://fashion-mnist.s3-website.eu-central-1.amazonaws.com/t10k-labels-idx1-ubyte.gz to data\\FashionMNIST\\raw\\t10k-labels-idx1-ubyte.gz\n"
     ]
    },
    {
     "name": "stderr",
     "output_type": "stream",
     "text": [
      "100.0%"
     ]
    },
    {
     "name": "stdout",
     "output_type": "stream",
     "text": [
      "Extracting data\\FashionMNIST\\raw\\t10k-labels-idx1-ubyte.gz to data\\FashionMNIST\\raw\n",
      "\n"
     ]
    },
    {
     "name": "stderr",
     "output_type": "stream",
     "text": [
      "\n"
     ]
    }
   ],
   "source": [
    "import torch\n",
    "from torch import nn\n",
    "from torch.utils.data import DataLoader\n",
    "from torchvision import datasets\n",
    "from torchvision.transforms import ToTensor\n",
    "\n",
    "training_data = datasets.FashionMNIST(\n",
    "    root=\"data\",\n",
    "    train=True,\n",
    "    download=True,\n",
    "    transform=ToTensor(),\n",
    ")\n",
    "\n",
    "# Download test data from open datasets.\n",
    "test_data = datasets.FashionMNIST(\n",
    "    root=\"data\",\n",
    "    train=False,\n",
    "    download=True,\n",
    "    transform=ToTensor(),\n",
    ")"
   ]
  },
  {
   "cell_type": "markdown",
   "metadata": {},
   "source": [
    "#### dataloader"
   ]
  },
  {
   "cell_type": "code",
   "execution_count": 8,
   "metadata": {},
   "outputs": [
    {
     "name": "stdout",
     "output_type": "stream",
     "text": [
      "Shape of X [N, C, H, W]: torch.Size([16, 1, 28, 28])\n",
      "Shape of y: torch.Size([16]) torch.int64\n"
     ]
    }
   ],
   "source": [
    "train_dataloader = DataLoader(training_data, batch_size=args['batch_size'])\n",
    "test_dataloader = DataLoader(test_data, batch_size=args['batch_size'])\n",
    "for X, y in test_dataloader:\n",
    "    print(f\"Shape of X [N, C, H, W]: {X.shape}\")\n",
    "    print(f\"Shape of y: {y.shape} {y.dtype}\")\n",
    "    break"
   ]
  },
  {
   "cell_type": "markdown",
   "metadata": {},
   "source": [
    "#### cuda"
   ]
  },
  {
   "cell_type": "code",
   "execution_count": 9,
   "metadata": {},
   "outputs": [
    {
     "name": "stdout",
     "output_type": "stream",
     "text": [
      "Using cuda device\n"
     ]
    }
   ],
   "source": [
    "device = \"cuda\" if torch.cuda.is_available() else \"cpu\"\n",
    "print(f\"Using {device} device\")"
   ]
  },
  {
   "cell_type": "markdown",
   "metadata": {},
   "source": [
    "#### network"
   ]
  },
  {
   "cell_type": "code",
   "execution_count": 10,
   "metadata": {},
   "outputs": [
    {
     "name": "stdout",
     "output_type": "stream",
     "text": [
      "NeuralNetwork(\n",
      "  (flatten): Flatten(start_dim=1, end_dim=-1)\n",
      "  (linear_relu_stack): Sequential(\n",
      "    (0): Linear(in_features=784, out_features=512, bias=True)\n",
      "    (1): ReLU()\n",
      "    (2): Linear(in_features=512, out_features=512, bias=True)\n",
      "    (3): ReLU()\n",
      "    (4): Linear(in_features=512, out_features=10, bias=True)\n",
      "  )\n",
      ")\n"
     ]
    }
   ],
   "source": [
    "class NeuralNetwork(nn.Module):\n",
    "    def __init__(self):\n",
    "        super(NeuralNetwork, self).__init__()\n",
    "        self.flatten = nn.Flatten()\n",
    "        self.linear_relu_stack = nn.Sequential(\n",
    "            nn.Linear(28 * 28, 512),\n",
    "            nn.ReLU(),\n",
    "            nn.Linear(512, 512),\n",
    "            nn.ReLU(),\n",
    "            nn.Linear(512, 10)\n",
    "        )\n",
    "\n",
    "    def forward(self, x):\n",
    "        x = self.flatten(x)\n",
    "        logits = self.linear_relu_stack(x)\n",
    "        return logits\n",
    "\n",
    "\n",
    "model = NeuralNetwork().to(device)\n",
    "print(model)"
   ]
  },
  {
   "cell_type": "markdown",
   "metadata": {},
   "source": [
    "#### cost function, optimizer"
   ]
  },
  {
   "cell_type": "code",
   "execution_count": 11,
   "metadata": {},
   "outputs": [],
   "source": [
    "loss_fn = nn.CrossEntropyLoss()\n",
    "optimizer = torch.optim.SGD(model.parameters(), lr=args['learning_rate'])"
   ]
  },
  {
   "cell_type": "markdown",
   "metadata": {},
   "source": [
    "#### def train, test"
   ]
  },
  {
   "cell_type": "code",
   "execution_count": 12,
   "metadata": {},
   "outputs": [],
   "source": [
    "\n",
    "def train(dataloader, model, loss_fn, optimizer, epoch):\n",
    "    size = len(dataloader.dataset)\n",
    "    model.train()\n",
    "    total_loss = 0\n",
    "    for batch, (X, y) in enumerate(dataloader):\n",
    "        X, y = X.to(device), y.to(device)\n",
    "\n",
    "        # Compute prediction error\n",
    "        pred = model(X)\n",
    "        loss = loss_fn(pred, y)\n",
    "        total_loss += loss.item()\n",
    "\n",
    "        # Backpropagation\n",
    "        optimizer.zero_grad()\n",
    "        loss.backward()\n",
    "        optimizer.step()\n",
    "\n",
    "        if batch % 100 == 0:\n",
    "            loss, current = loss.item(), batch * len(X)\n",
    "            print(f\"loss: {loss:>7f}  [{current:>5d}/{size:>5d}]\")\n",
    "\n",
    "    wandb.log({\"train_loss\": total_loss / len(dataloader)}, step=epoch)\n",
    "\n",
    "\n",
    "def test(dataloader, model, loss_fn, epoch):\n",
    "    size = len(dataloader.dataset)\n",
    "    num_batches = len(dataloader)\n",
    "    model.eval()\n",
    "    test_loss, correct = 0, 0\n",
    "    with torch.no_grad():\n",
    "        for X, y in dataloader:\n",
    "            X, y = X.to(device), y.to(device)\n",
    "            pred = model(X)\n",
    "            test_loss += loss_fn(pred, y).item()\n",
    "            correct += (pred.argmax(1) == y).type(torch.float).sum().item()\n",
    "    test_loss /= num_batches\n",
    "    correct /= size\n",
    "    print(f\"Test Error: \\n Accuracy: {(100*correct):>0.1f}%, Avg loss: {test_loss:>8f} \\n\")\n",
    "    wandb.log({\"test_loss\": test_loss, \"test_acc\": correct}, step=epoch)"
   ]
  },
  {
   "cell_type": "markdown",
   "metadata": {},
   "source": [
    "#### train"
   ]
  },
  {
   "cell_type": "code",
   "execution_count": 13,
   "metadata": {},
   "outputs": [
    {
     "name": "stdout",
     "output_type": "stream",
     "text": [
      "Epoch 1\n",
      "-------------------------------\n",
      "loss: 2.259972  [    0/60000]\n",
      "loss: 2.290897  [ 1600/60000]\n",
      "loss: 2.281115  [ 3200/60000]\n",
      "loss: 2.264755  [ 4800/60000]\n",
      "loss: 2.244345  [ 6400/60000]\n",
      "loss: 2.247344  [ 8000/60000]\n",
      "loss: 2.214625  [ 9600/60000]\n",
      "loss: 2.178483  [11200/60000]\n",
      "loss: 2.195702  [12800/60000]\n",
      "loss: 2.129432  [14400/60000]\n",
      "loss: 2.134112  [16000/60000]\n",
      "loss: 2.095768  [17600/60000]\n",
      "loss: 2.102016  [19200/60000]\n",
      "loss: 2.089299  [20800/60000]\n",
      "loss: 2.062539  [22400/60000]\n",
      "loss: 1.997531  [24000/60000]\n",
      "loss: 1.966484  [25600/60000]\n",
      "loss: 2.048685  [27200/60000]\n",
      "loss: 1.908393  [28800/60000]\n",
      "loss: 1.900734  [30400/60000]\n",
      "loss: 1.826823  [32000/60000]\n",
      "loss: 1.707929  [33600/60000]\n",
      "loss: 1.661968  [35200/60000]\n",
      "loss: 1.763815  [36800/60000]\n",
      "loss: 1.770154  [38400/60000]\n",
      "loss: 1.594459  [40000/60000]\n",
      "loss: 1.557675  [41600/60000]\n",
      "loss: 1.667047  [43200/60000]\n",
      "loss: 1.384375  [44800/60000]\n",
      "loss: 1.481078  [46400/60000]\n",
      "loss: 1.502755  [48000/60000]\n",
      "loss: 1.323603  [49600/60000]\n",
      "loss: 1.377165  [51200/60000]\n",
      "loss: 1.346879  [52800/60000]\n",
      "loss: 1.277036  [54400/60000]\n",
      "loss: 1.340754  [56000/60000]\n",
      "loss: 1.272810  [57600/60000]\n",
      "loss: 1.027221  [59200/60000]\n",
      "Test Error: \n",
      " Accuracy: 63.4%, Avg loss: 1.244593 \n",
      "\n",
      "Epoch 2\n",
      "-------------------------------\n",
      "loss: 1.248093  [    0/60000]\n",
      "loss: 1.128658  [ 1600/60000]\n",
      "loss: 1.163120  [ 3200/60000]\n",
      "loss: 1.229879  [ 4800/60000]\n",
      "loss: 1.103709  [ 6400/60000]\n",
      "loss: 1.269994  [ 8000/60000]\n",
      "loss: 1.177122  [ 9600/60000]\n",
      "loss: 1.030166  [11200/60000]\n",
      "loss: 1.088360  [12800/60000]\n",
      "loss: 1.080096  [14400/60000]\n",
      "loss: 1.137495  [16000/60000]\n",
      "loss: 0.959478  [17600/60000]\n",
      "loss: 0.874235  [19200/60000]\n",
      "loss: 1.419704  [20800/60000]\n",
      "loss: 1.092730  [22400/60000]\n",
      "loss: 1.070562  [24000/60000]\n",
      "loss: 0.844331  [25600/60000]\n",
      "loss: 1.162680  [27200/60000]\n",
      "loss: 1.118382  [28800/60000]\n",
      "loss: 1.024100  [30400/60000]\n",
      "loss: 0.949320  [32000/60000]\n",
      "loss: 0.637355  [33600/60000]\n",
      "loss: 0.758828  [35200/60000]\n",
      "loss: 0.971563  [36800/60000]\n",
      "loss: 1.239266  [38400/60000]\n",
      "loss: 0.807871  [40000/60000]\n",
      "loss: 0.880652  [41600/60000]\n",
      "loss: 0.901157  [43200/60000]\n",
      "loss: 0.646026  [44800/60000]\n",
      "loss: 0.841598  [46400/60000]\n",
      "loss: 0.843001  [48000/60000]\n",
      "loss: 0.732521  [49600/60000]\n",
      "loss: 0.776728  [51200/60000]\n",
      "loss: 0.820936  [52800/60000]\n",
      "loss: 0.807939  [54400/60000]\n",
      "loss: 1.104408  [56000/60000]\n",
      "loss: 0.899621  [57600/60000]\n",
      "loss: 0.605783  [59200/60000]\n",
      "Test Error: \n",
      " Accuracy: 68.5%, Avg loss: 0.858384 \n",
      "\n",
      "Epoch 3\n",
      "-------------------------------\n",
      "loss: 0.848425  [    0/60000]\n",
      "loss: 0.722896  [ 1600/60000]\n",
      "loss: 0.772657  [ 3200/60000]\n",
      "loss: 0.830503  [ 4800/60000]\n",
      "loss: 0.727793  [ 6400/60000]\n",
      "loss: 0.910614  [ 8000/60000]\n",
      "loss: 0.882619  [ 9600/60000]\n",
      "loss: 0.652689  [11200/60000]\n",
      "loss: 0.822792  [12800/60000]\n",
      "loss: 0.702657  [14400/60000]\n",
      "loss: 0.874819  [16000/60000]\n",
      "loss: 0.659277  [17600/60000]\n",
      "loss: 0.600770  [19200/60000]\n",
      "loss: 1.331616  [20800/60000]\n",
      "loss: 0.818514  [22400/60000]\n",
      "loss: 0.861785  [24000/60000]\n",
      "loss: 0.594205  [25600/60000]\n",
      "loss: 0.983172  [27200/60000]\n",
      "loss: 1.040336  [28800/60000]\n",
      "loss: 0.756872  [30400/60000]\n",
      "loss: 0.758398  [32000/60000]\n",
      "loss: 0.419340  [33600/60000]\n",
      "loss: 0.528003  [35200/60000]\n",
      "loss: 0.745058  [36800/60000]\n",
      "loss: 1.128439  [38400/60000]\n",
      "loss: 0.681958  [40000/60000]\n",
      "loss: 0.747658  [41600/60000]\n",
      "loss: 0.679343  [43200/60000]\n",
      "loss: 0.497327  [44800/60000]\n",
      "loss: 0.670087  [46400/60000]\n",
      "loss: 0.655606  [48000/60000]\n",
      "loss: 0.571959  [49600/60000]\n",
      "loss: 0.584653  [51200/60000]\n",
      "loss: 0.666815  [52800/60000]\n",
      "loss: 0.694388  [54400/60000]\n",
      "loss: 1.015330  [56000/60000]\n",
      "loss: 0.824585  [57600/60000]\n",
      "loss: 0.516625  [59200/60000]\n",
      "Test Error: \n",
      " Accuracy: 73.2%, Avg loss: 0.737439 \n",
      "\n",
      "Epoch 4\n",
      "-------------------------------\n",
      "loss: 0.722731  [    0/60000]\n",
      "loss: 0.623736  [ 1600/60000]\n",
      "loss: 0.677313  [ 3200/60000]\n",
      "loss: 0.670664  [ 4800/60000]\n",
      "loss: 0.593981  [ 6400/60000]\n",
      "loss: 0.758027  [ 8000/60000]\n",
      "loss: 0.766962  [ 9600/60000]\n",
      "loss: 0.507988  [11200/60000]\n",
      "loss: 0.711379  [12800/60000]\n",
      "loss: 0.517575  [14400/60000]\n",
      "loss: 0.800109  [16000/60000]\n",
      "loss: 0.531791  [17600/60000]\n",
      "loss: 0.493926  [19200/60000]\n",
      "loss: 1.241604  [20800/60000]\n",
      "loss: 0.684312  [22400/60000]\n",
      "loss: 0.772859  [24000/60000]\n",
      "loss: 0.522948  [25600/60000]\n",
      "loss: 0.921084  [27200/60000]\n",
      "loss: 0.964700  [28800/60000]\n",
      "loss: 0.631413  [30400/60000]\n",
      "loss: 0.723582  [32000/60000]\n",
      "loss: 0.335216  [33600/60000]\n",
      "loss: 0.433141  [35200/60000]\n",
      "loss: 0.627411  [36800/60000]\n",
      "loss: 0.989483  [38400/60000]\n",
      "loss: 0.665448  [40000/60000]\n",
      "loss: 0.690450  [41600/60000]\n",
      "loss: 0.579936  [43200/60000]\n",
      "loss: 0.449401  [44800/60000]\n",
      "loss: 0.592750  [46400/60000]\n",
      "loss: 0.548716  [48000/60000]\n",
      "loss: 0.502257  [49600/60000]\n",
      "loss: 0.467732  [51200/60000]\n",
      "loss: 0.570140  [52800/60000]\n",
      "loss: 0.646630  [54400/60000]\n",
      "loss: 0.902951  [56000/60000]\n",
      "loss: 0.784796  [57600/60000]\n",
      "loss: 0.464634  [59200/60000]\n",
      "Test Error: \n",
      " Accuracy: 76.7%, Avg loss: 0.667742 \n",
      "\n",
      "Epoch 5\n",
      "-------------------------------\n",
      "loss: 0.634484  [    0/60000]\n",
      "loss: 0.575996  [ 1600/60000]\n",
      "loss: 0.633936  [ 3200/60000]\n",
      "loss: 0.579526  [ 4800/60000]\n",
      "loss: 0.505171  [ 6400/60000]\n",
      "loss: 0.666245  [ 8000/60000]\n",
      "loss: 0.698473  [ 9600/60000]\n",
      "loss: 0.427187  [11200/60000]\n",
      "loss: 0.625763  [12800/60000]\n",
      "loss: 0.404761  [14400/60000]\n",
      "loss: 0.769422  [16000/60000]\n",
      "loss: 0.446240  [17600/60000]\n",
      "loss: 0.429064  [19200/60000]\n",
      "loss: 1.178588  [20800/60000]\n",
      "loss: 0.588748  [22400/60000]\n",
      "loss: 0.715942  [24000/60000]\n",
      "loss: 0.494967  [25600/60000]\n",
      "loss: 0.865904  [27200/60000]\n",
      "loss: 0.879792  [28800/60000]\n",
      "loss: 0.552102  [30400/60000]\n",
      "loss: 0.711980  [32000/60000]\n",
      "loss: 0.283969  [33600/60000]\n",
      "loss: 0.371952  [35200/60000]\n",
      "loss: 0.543170  [36800/60000]\n",
      "loss: 0.861297  [38400/60000]\n",
      "loss: 0.673504  [40000/60000]\n",
      "loss: 0.655876  [41600/60000]\n",
      "loss: 0.517627  [43200/60000]\n",
      "loss: 0.431124  [44800/60000]\n",
      "loss: 0.538696  [46400/60000]\n",
      "loss: 0.481500  [48000/60000]\n",
      "loss: 0.462988  [49600/60000]\n",
      "loss: 0.389172  [51200/60000]\n",
      "loss: 0.492854  [52800/60000]\n",
      "loss: 0.620681  [54400/60000]\n",
      "loss: 0.792180  [56000/60000]\n",
      "loss: 0.750551  [57600/60000]\n",
      "loss: 0.421717  [59200/60000]\n",
      "Test Error: \n",
      " Accuracy: 78.3%, Avg loss: 0.619502 \n",
      "\n",
      "Epoch 6\n",
      "-------------------------------\n",
      "loss: 0.578765  [    0/60000]\n",
      "loss: 0.534454  [ 1600/60000]\n",
      "loss: 0.611593  [ 3200/60000]\n",
      "loss: 0.522341  [ 4800/60000]\n",
      "loss: 0.435131  [ 6400/60000]\n",
      "loss: 0.602895  [ 8000/60000]\n",
      "loss: 0.650697  [ 9600/60000]\n",
      "loss: 0.374455  [11200/60000]\n",
      "loss: 0.560746  [12800/60000]\n",
      "loss: 0.331707  [14400/60000]\n",
      "loss: 0.753378  [16000/60000]\n",
      "loss: 0.381227  [17600/60000]\n",
      "loss: 0.387126  [19200/60000]\n",
      "loss: 1.141924  [20800/60000]\n",
      "loss: 0.519861  [22400/60000]\n",
      "loss: 0.675143  [24000/60000]\n",
      "loss: 0.478166  [25600/60000]\n",
      "loss: 0.815958  [27200/60000]\n",
      "loss: 0.801579  [28800/60000]\n",
      "loss: 0.495914  [30400/60000]\n",
      "loss: 0.693713  [32000/60000]\n",
      "loss: 0.249460  [33600/60000]\n",
      "loss: 0.326273  [35200/60000]\n",
      "loss: 0.475517  [36800/60000]\n",
      "loss: 0.759994  [38400/60000]\n",
      "loss: 0.687418  [40000/60000]\n",
      "loss: 0.637274  [41600/60000]\n",
      "loss: 0.471951  [43200/60000]\n",
      "loss: 0.430762  [44800/60000]\n",
      "loss: 0.499871  [46400/60000]\n",
      "loss: 0.440712  [48000/60000]\n",
      "loss: 0.437697  [49600/60000]\n",
      "loss: 0.338515  [51200/60000]\n",
      "loss: 0.432437  [52800/60000]\n",
      "loss: 0.604754  [54400/60000]\n",
      "loss: 0.698384  [56000/60000]\n",
      "loss: 0.719049  [57600/60000]\n",
      "loss: 0.389804  [59200/60000]\n",
      "Test Error: \n",
      " Accuracy: 79.7%, Avg loss: 0.584926 \n",
      "\n",
      "Epoch 7\n",
      "-------------------------------\n",
      "loss: 0.541672  [    0/60000]\n",
      "loss: 0.493568  [ 1600/60000]\n",
      "loss: 0.602764  [ 3200/60000]\n",
      "loss: 0.483336  [ 4800/60000]\n",
      "loss: 0.380593  [ 6400/60000]\n",
      "loss: 0.557487  [ 8000/60000]\n",
      "loss: 0.615714  [ 9600/60000]\n",
      "loss: 0.340295  [11200/60000]\n",
      "loss: 0.512882  [12800/60000]\n",
      "loss: 0.283208  [14400/60000]\n",
      "loss: 0.745023  [16000/60000]\n",
      "loss: 0.329825  [17600/60000]\n",
      "loss: 0.359406  [19200/60000]\n",
      "loss: 1.118675  [20800/60000]\n",
      "loss: 0.471529  [22400/60000]\n",
      "loss: 0.646588  [24000/60000]\n",
      "loss: 0.462065  [25600/60000]\n",
      "loss: 0.772783  [27200/60000]\n",
      "loss: 0.736816  [28800/60000]\n",
      "loss: 0.454101  [30400/60000]\n",
      "loss: 0.667897  [32000/60000]\n",
      "loss: 0.226387  [33600/60000]\n",
      "loss: 0.292958  [35200/60000]\n",
      "loss: 0.422060  [36800/60000]\n",
      "loss: 0.682066  [38400/60000]\n",
      "loss: 0.702084  [40000/60000]\n",
      "loss: 0.628594  [41600/60000]\n",
      "loss: 0.438277  [43200/60000]\n",
      "loss: 0.439334  [44800/60000]\n",
      "loss: 0.474321  [46400/60000]\n",
      "loss: 0.416190  [48000/60000]\n",
      "loss: 0.420350  [49600/60000]\n",
      "loss: 0.306185  [51200/60000]\n",
      "loss: 0.389593  [52800/60000]\n",
      "loss: 0.594334  [54400/60000]\n",
      "loss: 0.624449  [56000/60000]\n",
      "loss: 0.691576  [57600/60000]\n",
      "loss: 0.368253  [59200/60000]\n",
      "Test Error: \n",
      " Accuracy: 80.6%, Avg loss: 0.559493 \n",
      "\n",
      "Epoch 8\n",
      "-------------------------------\n",
      "loss: 0.513201  [    0/60000]\n",
      "loss: 0.456274  [ 1600/60000]\n",
      "loss: 0.599937  [ 3200/60000]\n",
      "loss: 0.456436  [ 4800/60000]\n",
      "loss: 0.340032  [ 6400/60000]\n",
      "loss: 0.524888  [ 8000/60000]\n",
      "loss: 0.589512  [ 9600/60000]\n",
      "loss: 0.316885  [11200/60000]\n",
      "loss: 0.474905  [12800/60000]\n",
      "loss: 0.249700  [14400/60000]\n",
      "loss: 0.739338  [16000/60000]\n",
      "loss: 0.290359  [17600/60000]\n",
      "loss: 0.338331  [19200/60000]\n",
      "loss: 1.098830  [20800/60000]\n",
      "loss: 0.438521  [22400/60000]\n",
      "loss: 0.627643  [24000/60000]\n",
      "loss: 0.446147  [25600/60000]\n",
      "loss: 0.735928  [27200/60000]\n",
      "loss: 0.687162  [28800/60000]\n",
      "loss: 0.422232  [30400/60000]\n",
      "loss: 0.638794  [32000/60000]\n",
      "loss: 0.211270  [33600/60000]\n",
      "loss: 0.269540  [35200/60000]\n",
      "loss: 0.382502  [36800/60000]\n",
      "loss: 0.621870  [38400/60000]\n",
      "loss: 0.715006  [40000/60000]\n",
      "loss: 0.624727  [41600/60000]\n",
      "loss: 0.414326  [43200/60000]\n",
      "loss: 0.449318  [44800/60000]\n",
      "loss: 0.457532  [46400/60000]\n",
      "loss: 0.401078  [48000/60000]\n",
      "loss: 0.407140  [49600/60000]\n",
      "loss: 0.284793  [51200/60000]\n",
      "loss: 0.361967  [52800/60000]\n",
      "loss: 0.587027  [54400/60000]\n",
      "loss: 0.566173  [56000/60000]\n",
      "loss: 0.667814  [57600/60000]\n",
      "loss: 0.354938  [59200/60000]\n",
      "Test Error: \n",
      " Accuracy: 81.3%, Avg loss: 0.540368 \n",
      "\n",
      "Epoch 9\n",
      "-------------------------------\n",
      "loss: 0.487737  [    0/60000]\n",
      "loss: 0.424585  [ 1600/60000]\n",
      "loss: 0.598685  [ 3200/60000]\n",
      "loss: 0.436632  [ 4800/60000]\n",
      "loss: 0.311269  [ 6400/60000]\n",
      "loss: 0.501382  [ 8000/60000]\n",
      "loss: 0.569545  [ 9600/60000]\n",
      "loss: 0.301251  [11200/60000]\n",
      "loss: 0.444318  [12800/60000]\n",
      "loss: 0.223767  [14400/60000]\n",
      "loss: 0.734523  [16000/60000]\n",
      "loss: 0.259782  [17600/60000]\n",
      "loss: 0.320501  [19200/60000]\n",
      "loss: 1.078733  [20800/60000]\n",
      "loss: 0.415172  [22400/60000]\n",
      "loss: 0.614629  [24000/60000]\n",
      "loss: 0.429935  [25600/60000]\n",
      "loss: 0.702910  [27200/60000]\n",
      "loss: 0.650455  [28800/60000]\n",
      "loss: 0.396389  [30400/60000]\n",
      "loss: 0.611077  [32000/60000]\n",
      "loss: 0.201858  [33600/60000]\n",
      "loss: 0.253008  [35200/60000]\n",
      "loss: 0.354435  [36800/60000]\n",
      "loss: 0.574102  [38400/60000]\n",
      "loss: 0.725379  [40000/60000]\n",
      "loss: 0.621997  [41600/60000]\n",
      "loss: 0.398927  [43200/60000]\n",
      "loss: 0.457459  [44800/60000]\n",
      "loss: 0.446563  [46400/60000]\n",
      "loss: 0.390698  [48000/60000]\n",
      "loss: 0.395514  [49600/60000]\n",
      "loss: 0.270211  [51200/60000]\n",
      "loss: 0.345451  [52800/60000]\n",
      "loss: 0.580247  [54400/60000]\n",
      "loss: 0.519146  [56000/60000]\n",
      "loss: 0.647915  [57600/60000]\n",
      "loss: 0.347132  [59200/60000]\n",
      "Test Error: \n",
      " Accuracy: 81.6%, Avg loss: 0.525524 \n",
      "\n",
      "Epoch 10\n",
      "-------------------------------\n",
      "loss: 0.464002  [    0/60000]\n",
      "loss: 0.399835  [ 1600/60000]\n",
      "loss: 0.594793  [ 3200/60000]\n",
      "loss: 0.420637  [ 4800/60000]\n",
      "loss: 0.291391  [ 6400/60000]\n",
      "loss: 0.485029  [ 8000/60000]\n",
      "loss: 0.554940  [ 9600/60000]\n",
      "loss: 0.290928  [11200/60000]\n",
      "loss: 0.419065  [12800/60000]\n",
      "loss: 0.202381  [14400/60000]\n",
      "loss: 0.729890  [16000/60000]\n",
      "loss: 0.235718  [17600/60000]\n",
      "loss: 0.304703  [19200/60000]\n",
      "loss: 1.057415  [20800/60000]\n",
      "loss: 0.396768  [22400/60000]\n",
      "loss: 0.606075  [24000/60000]\n",
      "loss: 0.414544  [25600/60000]\n",
      "loss: 0.673985  [27200/60000]\n",
      "loss: 0.623472  [28800/60000]\n",
      "loss: 0.375162  [30400/60000]\n",
      "loss: 0.588099  [32000/60000]\n",
      "loss: 0.195986  [33600/60000]\n",
      "loss: 0.240763  [35200/60000]\n",
      "loss: 0.335006  [36800/60000]\n",
      "loss: 0.535977  [38400/60000]\n",
      "loss: 0.733517  [40000/60000]\n",
      "loss: 0.618532  [41600/60000]\n",
      "loss: 0.388669  [43200/60000]\n",
      "loss: 0.462609  [44800/60000]\n",
      "loss: 0.438495  [46400/60000]\n",
      "loss: 0.382624  [48000/60000]\n",
      "loss: 0.385203  [49600/60000]\n",
      "loss: 0.259555  [51200/60000]\n",
      "loss: 0.336394  [52800/60000]\n",
      "loss: 0.574024  [54400/60000]\n",
      "loss: 0.479843  [56000/60000]\n",
      "loss: 0.630515  [57600/60000]\n",
      "loss: 0.341764  [59200/60000]\n",
      "Test Error: \n",
      " Accuracy: 81.9%, Avg loss: 0.513670 \n",
      "\n",
      "Done!\n"
     ]
    }
   ],
   "source": [
    "epochs = args['epochs']\n",
    "for t in range(epochs):\n",
    "    print(f\"Epoch {t+1}\\n-------------------------------\")\n",
    "    train(train_dataloader, model, loss_fn, optimizer, t)\n",
    "    test(test_dataloader, model, loss_fn, t)\n",
    "print(\"Done!\")"
   ]
  },
  {
   "cell_type": "markdown",
   "metadata": {},
   "source": [
    "#### save pth"
   ]
  },
  {
   "cell_type": "code",
   "execution_count": 16,
   "metadata": {},
   "outputs": [
    {
     "name": "stdout",
     "output_type": "stream",
     "text": [
      "Saved PyTorch Model State to model.pth\n"
     ]
    }
   ],
   "source": [
    "save_dir = './models/'\n",
    "\n",
    "torch.save(model.state_dict(), save_dir + \"model.pth\")\n",
    "print(\"Saved PyTorch Model State to model.pth\")"
   ]
  },
  {
   "cell_type": "markdown",
   "metadata": {},
   "source": [
    "#### model"
   ]
  },
  {
   "cell_type": "code",
   "execution_count": 17,
   "metadata": {},
   "outputs": [
    {
     "data": {
      "text/plain": [
       "<All keys matched successfully>"
      ]
     },
     "execution_count": 17,
     "metadata": {},
     "output_type": "execute_result"
    }
   ],
   "source": [
    "model = NeuralNetwork()\n",
    "model.load_state_dict(torch.load(save_dir + \"model.pth\"))"
   ]
  },
  {
   "cell_type": "markdown",
   "metadata": {},
   "source": [
    "#### evaluation"
   ]
  },
  {
   "cell_type": "code",
   "execution_count": 18,
   "metadata": {},
   "outputs": [
    {
     "name": "stdout",
     "output_type": "stream",
     "text": [
      "Predicted: \"Ankle boot\", Actual: \"Ankle boot\"\n"
     ]
    }
   ],
   "source": [
    "classes = [\n",
    "    \"T-shirt/top\",\n",
    "    \"Trouser\",\n",
    "    \"Pullover\",\n",
    "    \"Dress\",\n",
    "    \"Coat\",\n",
    "    \"Sandal\",\n",
    "    \"Shirt\",\n",
    "    \"Sneaker\",\n",
    "    \"Bag\",\n",
    "    \"Ankle boot\",\n",
    "]\n",
    "\n",
    "model.eval()\n",
    "x, y = test_data[0][0], test_data[0][1]\n",
    "with torch.no_grad():\n",
    "    pred = model(x)\n",
    "    predicted, actual = classes[pred[0].argmax(0)], classes[y]\n",
    "    print(f'Predicted: \"{predicted}\", Actual: \"{actual}\"')"
   ]
  },
  {
   "cell_type": "code",
   "execution_count": null,
   "metadata": {},
   "outputs": [],
   "source": []
  }
 ],
 "metadata": {
  "kernelspec": {
   "display_name": "mlops",
   "language": "python",
   "name": "python3"
  },
  "language_info": {
   "codemirror_mode": {
    "name": "ipython",
    "version": 3
   },
   "file_extension": ".py",
   "mimetype": "text/x-python",
   "name": "python",
   "nbconvert_exporter": "python",
   "pygments_lexer": "ipython3",
   "version": "3.10.14"
  }
 },
 "nbformat": 4,
 "nbformat_minor": 2
}
